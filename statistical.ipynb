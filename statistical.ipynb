{
 "cells": [
  {
   "cell_type": "code",
   "execution_count": 9,
   "metadata": {},
   "outputs": [
    {
     "data": {
      "text/html": [
       "<div>\n",
       "<style scoped>\n",
       "    .dataframe tbody tr th:only-of-type {\n",
       "        vertical-align: middle;\n",
       "    }\n",
       "\n",
       "    .dataframe tbody tr th {\n",
       "        vertical-align: top;\n",
       "    }\n",
       "\n",
       "    .dataframe thead th {\n",
       "        text-align: right;\n",
       "    }\n",
       "</style>\n",
       "<table border=\"1\" class=\"dataframe\">\n",
       "  <thead>\n",
       "    <tr style=\"text-align: right;\">\n",
       "      <th></th>\n",
       "      <th>HOUSEID</th>\n",
       "      <th>ANNMILES</th>\n",
       "      <th>GASUSGE</th>\n",
       "      <th>HighestEDUC</th>\n",
       "      <th>TAXISERVICE</th>\n",
       "      <th>RIDESHARE22</th>\n",
       "      <th>ESCOOTERUSED</th>\n",
       "      <th>PTUSED</th>\n",
       "      <th>MCTRANSIT</th>\n",
       "      <th>WALKTRANSIT</th>\n",
       "      <th>...</th>\n",
       "      <th>URBAN</th>\n",
       "      <th>URBANSIZE</th>\n",
       "      <th>URBRUR</th>\n",
       "      <th>PPT517</th>\n",
       "      <th>YOUNGCHILD</th>\n",
       "      <th>RESP_CNT</th>\n",
       "      <th>URBRUR_2010</th>\n",
       "      <th>TDAYDATE</th>\n",
       "      <th>WRKCOUNT</th>\n",
       "      <th>STRATUMID</th>\n",
       "    </tr>\n",
       "  </thead>\n",
       "  <tbody>\n",
       "    <tr>\n",
       "      <th>0</th>\n",
       "      <td>9000013002</td>\n",
       "      <td>12000</td>\n",
       "      <td>408.258158</td>\n",
       "      <td>7</td>\n",
       "      <td>0</td>\n",
       "      <td>0</td>\n",
       "      <td>0</td>\n",
       "      <td>0</td>\n",
       "      <td>0</td>\n",
       "      <td>13</td>\n",
       "      <td>...</td>\n",
       "      <td>1</td>\n",
       "      <td>4</td>\n",
       "      <td>1</td>\n",
       "      <td>2</td>\n",
       "      <td>0</td>\n",
       "      <td>4</td>\n",
       "      <td>1</td>\n",
       "      <td>202202</td>\n",
       "      <td>1</td>\n",
       "      <td>1021</td>\n",
       "    </tr>\n",
       "    <tr>\n",
       "      <th>1</th>\n",
       "      <td>9000013016</td>\n",
       "      <td>10000</td>\n",
       "      <td>356.835885</td>\n",
       "      <td>6</td>\n",
       "      <td>0</td>\n",
       "      <td>0</td>\n",
       "      <td>0</td>\n",
       "      <td>0</td>\n",
       "      <td>0</td>\n",
       "      <td>7</td>\n",
       "      <td>...</td>\n",
       "      <td>1</td>\n",
       "      <td>2</td>\n",
       "      <td>1</td>\n",
       "      <td>0</td>\n",
       "      <td>0</td>\n",
       "      <td>2</td>\n",
       "      <td>1</td>\n",
       "      <td>202202</td>\n",
       "      <td>2</td>\n",
       "      <td>1021</td>\n",
       "    </tr>\n",
       "    <tr>\n",
       "      <th>2</th>\n",
       "      <td>9000013039</td>\n",
       "      <td>5000</td>\n",
       "      <td>171.387563</td>\n",
       "      <td>6</td>\n",
       "      <td>0</td>\n",
       "      <td>0</td>\n",
       "      <td>0</td>\n",
       "      <td>0</td>\n",
       "      <td>0</td>\n",
       "      <td>8</td>\n",
       "      <td>...</td>\n",
       "      <td>1</td>\n",
       "      <td>4</td>\n",
       "      <td>1</td>\n",
       "      <td>2</td>\n",
       "      <td>0</td>\n",
       "      <td>4</td>\n",
       "      <td>1</td>\n",
       "      <td>202201</td>\n",
       "      <td>1</td>\n",
       "      <td>1021</td>\n",
       "    </tr>\n",
       "    <tr>\n",
       "      <th>3</th>\n",
       "      <td>9000013041</td>\n",
       "      <td>5000</td>\n",
       "      <td>173.118751</td>\n",
       "      <td>6</td>\n",
       "      <td>0</td>\n",
       "      <td>0</td>\n",
       "      <td>0</td>\n",
       "      <td>0</td>\n",
       "      <td>0</td>\n",
       "      <td>0</td>\n",
       "      <td>...</td>\n",
       "      <td>1</td>\n",
       "      <td>3</td>\n",
       "      <td>1</td>\n",
       "      <td>0</td>\n",
       "      <td>0</td>\n",
       "      <td>1</td>\n",
       "      <td>1</td>\n",
       "      <td>202201</td>\n",
       "      <td>1</td>\n",
       "      <td>1021</td>\n",
       "    </tr>\n",
       "    <tr>\n",
       "      <th>4</th>\n",
       "      <td>9000013042</td>\n",
       "      <td>70020</td>\n",
       "      <td>2414.157750</td>\n",
       "      <td>8</td>\n",
       "      <td>0</td>\n",
       "      <td>3</td>\n",
       "      <td>0</td>\n",
       "      <td>8</td>\n",
       "      <td>0</td>\n",
       "      <td>9</td>\n",
       "      <td>...</td>\n",
       "      <td>1</td>\n",
       "      <td>4</td>\n",
       "      <td>1</td>\n",
       "      <td>0</td>\n",
       "      <td>1</td>\n",
       "      <td>2</td>\n",
       "      <td>1</td>\n",
       "      <td>202202</td>\n",
       "      <td>2</td>\n",
       "      <td>1021</td>\n",
       "    </tr>\n",
       "    <tr>\n",
       "      <th>...</th>\n",
       "      <td>...</td>\n",
       "      <td>...</td>\n",
       "      <td>...</td>\n",
       "      <td>...</td>\n",
       "      <td>...</td>\n",
       "      <td>...</td>\n",
       "      <td>...</td>\n",
       "      <td>...</td>\n",
       "      <td>...</td>\n",
       "      <td>...</td>\n",
       "      <td>...</td>\n",
       "      <td>...</td>\n",
       "      <td>...</td>\n",
       "      <td>...</td>\n",
       "      <td>...</td>\n",
       "      <td>...</td>\n",
       "      <td>...</td>\n",
       "      <td>...</td>\n",
       "      <td>...</td>\n",
       "      <td>...</td>\n",
       "      <td>...</td>\n",
       "    </tr>\n",
       "    <tr>\n",
       "      <th>7161</th>\n",
       "      <td>9000218006</td>\n",
       "      <td>11000</td>\n",
       "      <td>374.625041</td>\n",
       "      <td>7</td>\n",
       "      <td>0</td>\n",
       "      <td>0</td>\n",
       "      <td>0</td>\n",
       "      <td>0</td>\n",
       "      <td>0</td>\n",
       "      <td>0</td>\n",
       "      <td>...</td>\n",
       "      <td>1</td>\n",
       "      <td>3</td>\n",
       "      <td>1</td>\n",
       "      <td>2</td>\n",
       "      <td>0</td>\n",
       "      <td>3</td>\n",
       "      <td>1</td>\n",
       "      <td>202212</td>\n",
       "      <td>1</td>\n",
       "      <td>1031</td>\n",
       "    </tr>\n",
       "    <tr>\n",
       "      <th>7162</th>\n",
       "      <td>9000218013</td>\n",
       "      <td>3000</td>\n",
       "      <td>102.395445</td>\n",
       "      <td>7</td>\n",
       "      <td>0</td>\n",
       "      <td>0</td>\n",
       "      <td>0</td>\n",
       "      <td>0</td>\n",
       "      <td>0</td>\n",
       "      <td>3</td>\n",
       "      <td>...</td>\n",
       "      <td>1</td>\n",
       "      <td>1</td>\n",
       "      <td>1</td>\n",
       "      <td>0</td>\n",
       "      <td>0</td>\n",
       "      <td>2</td>\n",
       "      <td>1</td>\n",
       "      <td>202301</td>\n",
       "      <td>0</td>\n",
       "      <td>1031</td>\n",
       "    </tr>\n",
       "    <tr>\n",
       "      <th>7163</th>\n",
       "      <td>9000218021</td>\n",
       "      <td>12100</td>\n",
       "      <td>421.380431</td>\n",
       "      <td>6</td>\n",
       "      <td>0</td>\n",
       "      <td>0</td>\n",
       "      <td>0</td>\n",
       "      <td>0</td>\n",
       "      <td>0</td>\n",
       "      <td>0</td>\n",
       "      <td>...</td>\n",
       "      <td>4</td>\n",
       "      <td>6</td>\n",
       "      <td>2</td>\n",
       "      <td>0</td>\n",
       "      <td>0</td>\n",
       "      <td>1</td>\n",
       "      <td>2</td>\n",
       "      <td>202212</td>\n",
       "      <td>0</td>\n",
       "      <td>1032</td>\n",
       "    </tr>\n",
       "    <tr>\n",
       "      <th>7164</th>\n",
       "      <td>9000218034</td>\n",
       "      <td>10000</td>\n",
       "      <td>482.619553</td>\n",
       "      <td>2</td>\n",
       "      <td>0</td>\n",
       "      <td>0</td>\n",
       "      <td>0</td>\n",
       "      <td>0</td>\n",
       "      <td>0</td>\n",
       "      <td>0</td>\n",
       "      <td>...</td>\n",
       "      <td>4</td>\n",
       "      <td>6</td>\n",
       "      <td>2</td>\n",
       "      <td>0</td>\n",
       "      <td>0</td>\n",
       "      <td>2</td>\n",
       "      <td>2</td>\n",
       "      <td>202212</td>\n",
       "      <td>0</td>\n",
       "      <td>1032</td>\n",
       "    </tr>\n",
       "    <tr>\n",
       "      <th>7165</th>\n",
       "      <td>9000218040</td>\n",
       "      <td>14000</td>\n",
       "      <td>736.301892</td>\n",
       "      <td>4</td>\n",
       "      <td>0</td>\n",
       "      <td>0</td>\n",
       "      <td>0</td>\n",
       "      <td>0</td>\n",
       "      <td>0</td>\n",
       "      <td>5</td>\n",
       "      <td>...</td>\n",
       "      <td>4</td>\n",
       "      <td>6</td>\n",
       "      <td>2</td>\n",
       "      <td>0</td>\n",
       "      <td>0</td>\n",
       "      <td>1</td>\n",
       "      <td>2</td>\n",
       "      <td>202212</td>\n",
       "      <td>1</td>\n",
       "      <td>1032</td>\n",
       "    </tr>\n",
       "  </tbody>\n",
       "</table>\n",
       "<p>7166 rows × 46 columns</p>\n",
       "</div>"
      ],
      "text/plain": [
       "         HOUSEID  ANNMILES      GASUSGE  HighestEDUC  TAXISERVICE  \\\n",
       "0     9000013002     12000   408.258158            7            0   \n",
       "1     9000013016     10000   356.835885            6            0   \n",
       "2     9000013039      5000   171.387563            6            0   \n",
       "3     9000013041      5000   173.118751            6            0   \n",
       "4     9000013042     70020  2414.157750            8            0   \n",
       "...          ...       ...          ...          ...          ...   \n",
       "7161  9000218006     11000   374.625041            7            0   \n",
       "7162  9000218013      3000   102.395445            7            0   \n",
       "7163  9000218021     12100   421.380431            6            0   \n",
       "7164  9000218034     10000   482.619553            2            0   \n",
       "7165  9000218040     14000   736.301892            4            0   \n",
       "\n",
       "      RIDESHARE22  ESCOOTERUSED  PTUSED  MCTRANSIT  WALKTRANSIT  ...  URBAN  \\\n",
       "0               0             0       0          0           13  ...      1   \n",
       "1               0             0       0          0            7  ...      1   \n",
       "2               0             0       0          0            8  ...      1   \n",
       "3               0             0       0          0            0  ...      1   \n",
       "4               3             0       8          0            9  ...      1   \n",
       "...           ...           ...     ...        ...          ...  ...    ...   \n",
       "7161            0             0       0          0            0  ...      1   \n",
       "7162            0             0       0          0            3  ...      1   \n",
       "7163            0             0       0          0            0  ...      4   \n",
       "7164            0             0       0          0            0  ...      4   \n",
       "7165            0             0       0          0            5  ...      4   \n",
       "\n",
       "      URBANSIZE  URBRUR  PPT517  YOUNGCHILD  RESP_CNT  URBRUR_2010  TDAYDATE  \\\n",
       "0             4       1       2           0         4            1    202202   \n",
       "1             2       1       0           0         2            1    202202   \n",
       "2             4       1       2           0         4            1    202201   \n",
       "3             3       1       0           0         1            1    202201   \n",
       "4             4       1       0           1         2            1    202202   \n",
       "...         ...     ...     ...         ...       ...          ...       ...   \n",
       "7161          3       1       2           0         3            1    202212   \n",
       "7162          1       1       0           0         2            1    202301   \n",
       "7163          6       2       0           0         1            2    202212   \n",
       "7164          6       2       0           0         2            2    202212   \n",
       "7165          6       2       0           0         1            2    202212   \n",
       "\n",
       "      WRKCOUNT  STRATUMID  \n",
       "0            1       1021  \n",
       "1            2       1021  \n",
       "2            1       1021  \n",
       "3            1       1021  \n",
       "4            2       1021  \n",
       "...        ...        ...  \n",
       "7161         1       1031  \n",
       "7162         0       1031  \n",
       "7163         0       1032  \n",
       "7164         0       1032  \n",
       "7165         1       1032  \n",
       "\n",
       "[7166 rows x 46 columns]"
      ]
     },
     "metadata": {},
     "output_type": "display_data"
    },
    {
     "name": "stdout",
     "output_type": "stream",
     "text": [
      "Index(['HOUSEID', 'ANNMILES', 'GASUSGE', 'HighestEDUC', 'TAXISERVICE',\n",
      "       'RIDESHARE22', 'ESCOOTERUSED', 'PTUSED', 'MCTRANSIT', 'WALKTRANSIT',\n",
      "       'BIKETRANSIT', 'EMPLOYMENT2', 'WTHHFIN', 'WTHHFIN5D', 'WTHHFIN2D',\n",
      "       'NUMADLT', 'HOMEOWN', 'HOMETYPE', 'RAIL', 'CENSUS_D', 'CENSUS_R',\n",
      "       'HH_HISP', 'DRVRCNT', 'CNTTDHH', 'CDIVMSAR', 'FLAG100', 'HHFAMINC',\n",
      "       'HHFAMINC_IMP', 'HH_RACE', 'HHSIZE', 'HHVEHCNT', 'HHRELATD', 'LIF_CYC',\n",
      "       'MSACAT', 'MSASIZE', 'TRAVDAY', 'URBAN', 'URBANSIZE', 'URBRUR',\n",
      "       'PPT517', 'YOUNGCHILD', 'RESP_CNT', 'URBRUR_2010', 'TDAYDATE',\n",
      "       'WRKCOUNT', 'STRATUMID'],\n",
      "      dtype='object')\n"
     ]
    }
   ],
   "source": [
    "import pandas as pd\n",
    "\n",
    "df = pd.read_csv('processed_data.csv')\n",
    "display(df)\n",
    "print(df.columns)"
   ]
  },
  {
   "cell_type": "code",
   "execution_count": 10,
   "metadata": {},
   "outputs": [],
   "source": [
    "numerical = [\n",
    "            'TAXISERVICE', 'ESCOOTERUSED', 'PTUSED', 'MCTRANSIT', 'WALKTRANSIT',\n",
    "            'BIKETRANSIT', 'EMPLOYMENT2', 'WTHHFIN', 'WTHHFIN5D', 'WTHHFIN2D',\n",
    "            'CNTTDHH', 'PPT517', 'YOUNGCHILD', 'RESP_CNT','WRKCOUNT', 'NUMADLT',\n",
    "            'RIDESHARE22', 'DRVRCNT', 'HHSIZE'\n",
    "            ]\n",
    "\n",
    "categorical = [\n",
    "                'HighestEDUC', 'HOMEOWN', 'HOMETYPE', 'TRAVDAY', \n",
    "                'RAIL', 'CENSUS_D', 'CENSUS_R', 'HH_HISP',\n",
    "                'FLAG100', 'HHFAMINC', 'HHFAMINC_IMP', 'HH_RACE', 'CDIVMSAR', \n",
    "                'HHVEHCNT', 'HHRELATD', 'LIF_CYC', 'MSACAT', 'MSASIZE',\n",
    "                'URBAN', 'URBANSIZE', 'URBRUR', 'URBRUR_2010', \n",
    "            ]"
   ]
  },
  {
   "cell_type": "code",
   "execution_count": 12,
   "metadata": {},
   "outputs": [
    {
     "data": {
      "text/plain": [
       "F_onewayResult(statistic=1584.5907874200796, pvalue=0.0)"
      ]
     },
     "metadata": {},
     "output_type": "display_data"
    },
    {
     "data": {
      "text/plain": [
       "F_onewayResult(statistic=1584.7193318683903, pvalue=0.0)"
      ]
     },
     "metadata": {},
     "output_type": "display_data"
    },
    {
     "data": {
      "text/plain": [
       "F_onewayResult(statistic=1581.7741554029665, pvalue=0.0)"
      ]
     },
     "metadata": {},
     "output_type": "display_data"
    },
    {
     "data": {
      "text/plain": [
       "F_onewayResult(statistic=1583.9917569177585, pvalue=0.0)"
      ]
     },
     "metadata": {},
     "output_type": "display_data"
    },
    {
     "data": {
      "text/plain": [
       "F_onewayResult(statistic=1561.3381842747224, pvalue=5e-324)"
      ]
     },
     "metadata": {},
     "output_type": "display_data"
    },
    {
     "data": {
      "text/plain": [
       "F_onewayResult(statistic=1581.3271991795154, pvalue=0.0)"
      ]
     },
     "metadata": {},
     "output_type": "display_data"
    },
    {
     "data": {
      "text/plain": [
       "F_onewayResult(statistic=1458.60358432908, pvalue=5.151225376668213e-304)"
      ]
     },
     "metadata": {},
     "output_type": "display_data"
    },
    {
     "data": {
      "text/plain": [
       "F_onewayResult(statistic=5736.775579110545, pvalue=0.0)"
      ]
     },
     "metadata": {},
     "output_type": "display_data"
    },
    {
     "data": {
      "text/plain": [
       "F_onewayResult(statistic=3380.646641089504, pvalue=0.0)"
      ]
     },
     "metadata": {},
     "output_type": "display_data"
    },
    {
     "data": {
      "text/plain": [
       "F_onewayResult(statistic=945.7621547271978, pvalue=3.5540658126247134e-201)"
      ]
     },
     "metadata": {},
     "output_type": "display_data"
    },
    {
     "data": {
      "text/plain": [
       "F_onewayResult(statistic=1571.5642933238569, pvalue=0.0)"
      ]
     },
     "metadata": {},
     "output_type": "display_data"
    },
    {
     "data": {
      "text/plain": [
       "F_onewayResult(statistic=1583.9136729766776, pvalue=0.0)"
      ]
     },
     "metadata": {},
     "output_type": "display_data"
    },
    {
     "data": {
      "text/plain": [
       "F_onewayResult(statistic=1584.6865561026914, pvalue=0.0)"
      ]
     },
     "metadata": {},
     "output_type": "display_data"
    },
    {
     "data": {
      "text/plain": [
       "F_onewayResult(statistic=1577.7482651166952, pvalue=0.0)"
      ]
     },
     "metadata": {},
     "output_type": "display_data"
    },
    {
     "data": {
      "text/plain": [
       "F_onewayResult(statistic=1581.6385686851893, pvalue=0.0)"
      ]
     },
     "metadata": {},
     "output_type": "display_data"
    },
    {
     "data": {
      "text/plain": [
       "F_onewayResult(statistic=1578.8208989965367, pvalue=0.0)"
      ]
     },
     "metadata": {},
     "output_type": "display_data"
    },
    {
     "data": {
      "text/plain": [
       "F_onewayResult(statistic=1582.2451052597787, pvalue=0.0)"
      ]
     },
     "metadata": {},
     "output_type": "display_data"
    },
    {
     "data": {
      "text/plain": [
       "F_onewayResult(statistic=1579.085252876457, pvalue=0.0)"
      ]
     },
     "metadata": {},
     "output_type": "display_data"
    },
    {
     "data": {
      "text/plain": [
       "F_onewayResult(statistic=1577.3494892796527, pvalue=0.0)"
      ]
     },
     "metadata": {},
     "output_type": "display_data"
    }
   ],
   "source": [
    "import scipy.stats as stats\n",
    "\n",
    "for column in numerical:\n",
    "    result = stats.f_oneway(df[column], df['GASUSGE'])\n",
    "    display(result)\n"
   ]
  },
  {
   "cell_type": "code",
   "execution_count": 14,
   "metadata": {},
   "outputs": [
    {
     "data": {
      "text/plain": [
       "Power_divergenceResult(statistic=array([387.73015343, 339.23275815, 154.19934527, ..., 403.71736771,\n",
       "       476.65256825, 724.38834341]), pvalue=array([2.58243417e-086, 9.37481641e-076, 2.09490452e-035, ...,\n",
       "       8.54514951e-090, 1.14325366e-105, 1.48739634e-159]))"
      ]
     },
     "metadata": {},
     "output_type": "display_data"
    },
    {
     "data": {
      "text/plain": [
       "Power_divergenceResult(statistic=array([405.26793167, 347.93593012, 162.59400018, ..., 415.41822244,\n",
       "       476.65256825, 730.32356354]), pvalue=array([3.92817332e-090, 1.19295431e-077, 3.06844334e-037, ...,\n",
       "       2.42514230e-092, 1.14325366e-105, 7.61803461e-161]))"
      ]
     },
     "metadata": {},
     "output_type": "display_data"
    },
    {
     "data": {
      "text/plain": [
       "Power_divergenceResult(statistic=array([405.26793167, 347.93593012, 162.59400018, ..., 418.3899015 ,\n",
       "       479.62782362, 733.30731738]), pvalue=array([3.92817332e-090, 1.19295431e-077, 3.06844334e-037, ...,\n",
       "       5.46896103e-093, 2.57471097e-106, 1.71019676e-161]))"
      ]
     },
     "metadata": {},
     "output_type": "display_data"
    },
    {
     "data": {
      "text/plain": [
       "Power_divergenceResult(statistic=array([405.26793167, 345.01325046, 156.95449684, ..., 418.3899015 ,\n",
       "       467.82463057, 721.43679   ]), pvalue=array([3.92817332e-090, 5.16531680e-077, 5.23712544e-036, ...,\n",
       "       5.46896103e-093, 9.53119433e-104, 6.51977391e-159]))"
      ]
     },
     "metadata": {},
     "output_type": "display_data"
    },
    {
     "data": {
      "text/plain": [
       "Power_divergenceResult(statistic=array([405.26793167, 350.88047314, 168.41076697, ..., 415.41822244,\n",
       "       476.65256825, 730.32356354]), pvalue=array([3.92817332e-090, 2.72524020e-078, 1.64543285e-038, ...,\n",
       "       2.42514230e-092, 1.14325366e-105, 7.61803461e-161]))"
      ]
     },
     "metadata": {},
     "output_type": "display_data"
    },
    {
     "data": {
      "text/plain": [
       "Power_divergenceResult(statistic=array([405.26793167, 353.84706282, 168.41076697, ..., 403.71736771,\n",
       "       464.91426047, 718.49588334]), pvalue=array([3.92817332e-090, 6.15743813e-079, 1.64543285e-038, ...,\n",
       "       8.54514951e-090, 4.09709014e-103, 2.84267268e-158]))"
      ]
     },
     "metadata": {},
     "output_type": "display_data"
    },
    {
     "data": {
      "text/plain": [
       "Power_divergenceResult(statistic=array([405.26793167, 353.84706282, 168.41076697, ..., 412.46526091,\n",
       "       473.69368476, 727.35058678]), pvalue=array([3.92817332e-090, 6.15743813e-079, 1.64543285e-038, ...,\n",
       "       1.06538447e-091, 5.03503536e-105, 3.37520370e-160]))"
      ]
     },
     "metadata": {},
     "output_type": "display_data"
    },
    {
     "data": {
      "text/plain": [
       "Power_divergenceResult(statistic=array([402.29715772, 350.88047314, 165.47984226, ..., 415.41822244,\n",
       "       476.65256825, 730.32356354]), pvalue=array([1.74130894e-089, 2.72524020e-078, 7.18605260e-038, ...,\n",
       "       2.42514230e-092, 1.14325366e-105, 7.61803461e-161]))"
      ]
     },
     "metadata": {},
     "output_type": "display_data"
    },
    {
     "data": {
      "text/plain": [
       "Power_divergenceResult(statistic=array([405.26793167, 353.84706282, 168.41076697, ..., 418.3899015 ,\n",
       "       479.62782362, 733.30731738]), pvalue=array([3.92817332e-090, 6.15743813e-079, 1.64543285e-038, ...,\n",
       "       5.46896103e-093, 2.57471097e-106, 1.71019676e-161]))"
      ]
     },
     "metadata": {},
     "output_type": "display_data"
    },
    {
     "data": {
      "text/plain": [
       "Power_divergenceResult(statistic=array([376.41257788, 336.37458893, 151.48629474, ..., 409.53088492,\n",
       "       470.75107224, 718.49588334]), pvalue=array([7.51638546e-084, 3.93036527e-075, 8.20543095e-035, ...,\n",
       "       4.63704077e-091, 2.19953149e-104, 2.84267268e-158]))"
      ]
     },
     "metadata": {},
     "output_type": "display_data"
    },
    {
     "data": {
      "text/plain": [
       "Power_divergenceResult(statistic=array([376.41257788, 336.37458893, 151.48629474, ..., 409.53088492,\n",
       "       470.75107224, 718.49588334]), pvalue=array([7.51638546e-084, 3.93036527e-075, 8.20543095e-035, ...,\n",
       "       4.63704077e-091, 2.19953149e-104, 2.84267268e-158]))"
      ]
     },
     "metadata": {},
     "output_type": "display_data"
    },
    {
     "data": {
      "text/plain": [
       "Power_divergenceResult(statistic=array([405.26793167, 353.84706282, 168.41076697, ..., 418.3899015 ,\n",
       "       479.62782362, 733.30731738]), pvalue=array([3.92817332e-090, 6.15743813e-079, 1.64543285e-038, ...,\n",
       "       5.46896103e-093, 2.57471097e-106, 1.71019676e-161]))"
      ]
     },
     "metadata": {},
     "output_type": "display_data"
    },
    {
     "data": {
      "text/plain": [
       "Power_divergenceResult(statistic=array([376.41257788, 319.66372228, 141.04125315, ..., 265.15632191,\n",
       "       320.59286759, 564.77416667]), pvalue=array([7.51638546e-084, 1.71454910e-071, 1.57587426e-032, ...,\n",
       "       1.29003837e-059, 1.07587598e-071, 7.69280992e-125]))"
      ]
     },
     "metadata": {},
     "output_type": "display_data"
    },
    {
     "data": {
      "text/plain": [
       "Power_divergenceResult(statistic=array([402.29715772, 353.84706282, 168.41076697, ..., 418.3899015 ,\n",
       "       476.65256825, 733.30731738]), pvalue=array([1.74130894e-089, 6.15743813e-079, 1.64543285e-038, ...,\n",
       "       5.46896103e-093, 1.14325366e-105, 1.71019676e-161]))"
      ]
     },
     "metadata": {},
     "output_type": "display_data"
    },
    {
     "data": {
      "text/plain": [
       "Power_divergenceResult(statistic=array([405.26793167, 353.84706282, 168.41076697, ..., 415.41822244,\n",
       "       479.62782362, 730.32356354]), pvalue=array([3.92817332e-090, 6.15743813e-079, 1.64543285e-038, ...,\n",
       "       2.42514230e-092, 2.57471097e-106, 7.61803461e-161]))"
      ]
     },
     "metadata": {},
     "output_type": "display_data"
    },
    {
     "data": {
      "text/plain": [
       "Power_divergenceResult(statistic=array([396.41340042, 350.88047314, 154.19934527, ..., 395.1332537 ,\n",
       "       453.43153829, 733.30731738]), pvalue=array([3.32430594e-088, 2.72524020e-078, 2.09490452e-035, ...,\n",
       "       6.31509928e-088, 1.29218331e-100, 1.71019676e-161]))"
      ]
     },
     "metadata": {},
     "output_type": "display_data"
    },
    {
     "data": {
      "text/plain": [
       "Power_divergenceResult(statistic=array([405.26793167, 347.93593012, 168.41076697, ..., 412.46526091,\n",
       "       470.75107224, 724.38834341]), pvalue=array([3.92817332e-090, 1.19295431e-077, 1.64543285e-038, ...,\n",
       "       1.06538447e-091, 2.19953149e-104, 1.48739634e-159]))"
      ]
     },
     "metadata": {},
     "output_type": "display_data"
    },
    {
     "data": {
      "text/plain": [
       "Power_divergenceResult(statistic=array([393.50013738, 347.93593012, 159.75246959, ..., 418.3899015 ,\n",
       "       464.91426047, 718.49588334]), pvalue=array([1.43186385e-087, 1.19295431e-077, 1.28153657e-036, ...,\n",
       "       5.46896103e-093, 4.09709014e-103, 2.84267268e-158]))"
      ]
     },
     "metadata": {},
     "output_type": "display_data"
    },
    {
     "data": {
      "text/plain": [
       "Power_divergenceResult(statistic=array([405.26793167, 353.84706282, 168.41076697, ..., 409.53088492,\n",
       "       470.75107224, 724.38834341]), pvalue=array([3.92817332e-090, 6.15743813e-079, 1.64543285e-038, ...,\n",
       "       4.63704077e-091, 2.19953149e-104, 1.48739634e-159]))"
      ]
     },
     "metadata": {},
     "output_type": "display_data"
    },
    {
     "data": {
      "text/plain": [
       "Power_divergenceResult(statistic=array([396.41340042, 350.88047314, 159.75246959, ..., 403.71736771,\n",
       "       464.91426047, 718.49588334]), pvalue=array([3.32430594e-088, 2.72524020e-078, 1.28153657e-036, ...,\n",
       "       8.54514951e-090, 4.09709014e-103, 2.84267268e-158]))"
      ]
     },
     "metadata": {},
     "output_type": "display_data"
    },
    {
     "data": {
      "text/plain": [
       "Power_divergenceResult(statistic=array([405.26793167, 353.84706282, 168.41076697, ..., 415.41822244,\n",
       "       476.65256825, 730.32356354]), pvalue=array([3.92817332e-090, 6.15743813e-079, 1.64543285e-038, ...,\n",
       "       2.42514230e-092, 1.14325366e-105, 7.61803461e-161]))"
      ]
     },
     "metadata": {},
     "output_type": "display_data"
    },
    {
     "data": {
      "text/plain": [
       "Power_divergenceResult(statistic=array([405.26793167, 353.84706282, 168.41076697, ..., 415.41822244,\n",
       "       476.65256825, 730.32356354]), pvalue=array([3.92817332e-090, 6.15743813e-079, 1.64543285e-038, ...,\n",
       "       2.42514230e-092, 1.14325366e-105, 7.61803461e-161]))"
      ]
     },
     "metadata": {},
     "output_type": "display_data"
    },
    {
     "data": {
      "text/plain": [
       "Power_divergenceResult(statistic=array([262.69051746, 320.14986492, 605.3747242 , ..., 256.54415703,\n",
       "       199.27042101,  49.4470833 ]), pvalue=array([4.44691639e-059, 1.34356116e-071, 1.13438992e-133, ...,\n",
       "       9.72358558e-058, 3.01330980e-045, 2.03795308e-012]))"
      ]
     },
     "metadata": {},
     "output_type": "display_data"
    }
   ],
   "source": [
    "for column in categorical:\n",
    "    result = stats.chisquare([df[column], df['GASUSGE']])\n",
    "    display(result)"
   ]
  }
 ],
 "metadata": {
  "kernelspec": {
   "display_name": "base",
   "language": "python",
   "name": "python3"
  },
  "language_info": {
   "codemirror_mode": {
    "name": "ipython",
    "version": 3
   },
   "file_extension": ".py",
   "mimetype": "text/x-python",
   "name": "python",
   "nbconvert_exporter": "python",
   "pygments_lexer": "ipython3",
   "version": "3.11.7"
  }
 },
 "nbformat": 4,
 "nbformat_minor": 2
}
