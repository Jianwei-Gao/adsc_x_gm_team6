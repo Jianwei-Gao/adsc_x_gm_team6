{
 "cells": [
  {
   "cell_type": "code",
   "execution_count": 48,
   "metadata": {},
   "outputs": [
    {
     "data": {
      "text/html": [
       "<div>\n",
       "<style scoped>\n",
       "    .dataframe tbody tr th:only-of-type {\n",
       "        vertical-align: middle;\n",
       "    }\n",
       "\n",
       "    .dataframe tbody tr th {\n",
       "        vertical-align: top;\n",
       "    }\n",
       "\n",
       "    .dataframe thead th {\n",
       "        text-align: right;\n",
       "    }\n",
       "</style>\n",
       "<table border=\"1\" class=\"dataframe\">\n",
       "  <thead>\n",
       "    <tr style=\"text-align: right;\">\n",
       "      <th></th>\n",
       "      <th>HOUSEID</th>\n",
       "      <th>ANNMILES</th>\n",
       "      <th>GASUSGE</th>\n",
       "      <th>HighestEDUC</th>\n",
       "      <th>TAXISERVICE</th>\n",
       "      <th>RIDESHARE22</th>\n",
       "      <th>ESCOOTERUSED</th>\n",
       "      <th>PTUSED</th>\n",
       "      <th>MCTRANSIT</th>\n",
       "      <th>WALKTRANSIT</th>\n",
       "      <th>...</th>\n",
       "      <th>URBAN</th>\n",
       "      <th>URBANSIZE</th>\n",
       "      <th>URBRUR</th>\n",
       "      <th>PPT517</th>\n",
       "      <th>YOUNGCHILD</th>\n",
       "      <th>RESP_CNT</th>\n",
       "      <th>URBRUR_2010</th>\n",
       "      <th>TDAYDATE</th>\n",
       "      <th>WRKCOUNT</th>\n",
       "      <th>STRATUMID</th>\n",
       "    </tr>\n",
       "  </thead>\n",
       "  <tbody>\n",
       "    <tr>\n",
       "      <th>0</th>\n",
       "      <td>9000013002</td>\n",
       "      <td>12000</td>\n",
       "      <td>408.258158</td>\n",
       "      <td>7</td>\n",
       "      <td>0</td>\n",
       "      <td>0</td>\n",
       "      <td>0</td>\n",
       "      <td>0</td>\n",
       "      <td>0</td>\n",
       "      <td>13</td>\n",
       "      <td>...</td>\n",
       "      <td>1</td>\n",
       "      <td>4</td>\n",
       "      <td>1</td>\n",
       "      <td>2</td>\n",
       "      <td>0</td>\n",
       "      <td>4</td>\n",
       "      <td>1</td>\n",
       "      <td>202202</td>\n",
       "      <td>1</td>\n",
       "      <td>1021</td>\n",
       "    </tr>\n",
       "    <tr>\n",
       "      <th>1</th>\n",
       "      <td>9000013016</td>\n",
       "      <td>10000</td>\n",
       "      <td>356.835885</td>\n",
       "      <td>6</td>\n",
       "      <td>0</td>\n",
       "      <td>0</td>\n",
       "      <td>0</td>\n",
       "      <td>0</td>\n",
       "      <td>0</td>\n",
       "      <td>7</td>\n",
       "      <td>...</td>\n",
       "      <td>1</td>\n",
       "      <td>2</td>\n",
       "      <td>1</td>\n",
       "      <td>0</td>\n",
       "      <td>0</td>\n",
       "      <td>2</td>\n",
       "      <td>1</td>\n",
       "      <td>202202</td>\n",
       "      <td>2</td>\n",
       "      <td>1021</td>\n",
       "    </tr>\n",
       "    <tr>\n",
       "      <th>2</th>\n",
       "      <td>9000013039</td>\n",
       "      <td>5000</td>\n",
       "      <td>171.387563</td>\n",
       "      <td>6</td>\n",
       "      <td>0</td>\n",
       "      <td>0</td>\n",
       "      <td>0</td>\n",
       "      <td>0</td>\n",
       "      <td>0</td>\n",
       "      <td>8</td>\n",
       "      <td>...</td>\n",
       "      <td>1</td>\n",
       "      <td>4</td>\n",
       "      <td>1</td>\n",
       "      <td>2</td>\n",
       "      <td>0</td>\n",
       "      <td>4</td>\n",
       "      <td>1</td>\n",
       "      <td>202201</td>\n",
       "      <td>1</td>\n",
       "      <td>1021</td>\n",
       "    </tr>\n",
       "    <tr>\n",
       "      <th>3</th>\n",
       "      <td>9000013041</td>\n",
       "      <td>5000</td>\n",
       "      <td>173.118751</td>\n",
       "      <td>6</td>\n",
       "      <td>0</td>\n",
       "      <td>0</td>\n",
       "      <td>0</td>\n",
       "      <td>0</td>\n",
       "      <td>0</td>\n",
       "      <td>0</td>\n",
       "      <td>...</td>\n",
       "      <td>1</td>\n",
       "      <td>3</td>\n",
       "      <td>1</td>\n",
       "      <td>0</td>\n",
       "      <td>0</td>\n",
       "      <td>1</td>\n",
       "      <td>1</td>\n",
       "      <td>202201</td>\n",
       "      <td>1</td>\n",
       "      <td>1021</td>\n",
       "    </tr>\n",
       "    <tr>\n",
       "      <th>4</th>\n",
       "      <td>9000013042</td>\n",
       "      <td>70020</td>\n",
       "      <td>2414.157750</td>\n",
       "      <td>8</td>\n",
       "      <td>0</td>\n",
       "      <td>3</td>\n",
       "      <td>0</td>\n",
       "      <td>8</td>\n",
       "      <td>0</td>\n",
       "      <td>9</td>\n",
       "      <td>...</td>\n",
       "      <td>1</td>\n",
       "      <td>4</td>\n",
       "      <td>1</td>\n",
       "      <td>0</td>\n",
       "      <td>1</td>\n",
       "      <td>2</td>\n",
       "      <td>1</td>\n",
       "      <td>202202</td>\n",
       "      <td>2</td>\n",
       "      <td>1021</td>\n",
       "    </tr>\n",
       "    <tr>\n",
       "      <th>...</th>\n",
       "      <td>...</td>\n",
       "      <td>...</td>\n",
       "      <td>...</td>\n",
       "      <td>...</td>\n",
       "      <td>...</td>\n",
       "      <td>...</td>\n",
       "      <td>...</td>\n",
       "      <td>...</td>\n",
       "      <td>...</td>\n",
       "      <td>...</td>\n",
       "      <td>...</td>\n",
       "      <td>...</td>\n",
       "      <td>...</td>\n",
       "      <td>...</td>\n",
       "      <td>...</td>\n",
       "      <td>...</td>\n",
       "      <td>...</td>\n",
       "      <td>...</td>\n",
       "      <td>...</td>\n",
       "      <td>...</td>\n",
       "      <td>...</td>\n",
       "    </tr>\n",
       "    <tr>\n",
       "      <th>7161</th>\n",
       "      <td>9000218006</td>\n",
       "      <td>11000</td>\n",
       "      <td>374.625041</td>\n",
       "      <td>7</td>\n",
       "      <td>0</td>\n",
       "      <td>0</td>\n",
       "      <td>0</td>\n",
       "      <td>0</td>\n",
       "      <td>0</td>\n",
       "      <td>0</td>\n",
       "      <td>...</td>\n",
       "      <td>1</td>\n",
       "      <td>3</td>\n",
       "      <td>1</td>\n",
       "      <td>2</td>\n",
       "      <td>0</td>\n",
       "      <td>3</td>\n",
       "      <td>1</td>\n",
       "      <td>202212</td>\n",
       "      <td>1</td>\n",
       "      <td>1031</td>\n",
       "    </tr>\n",
       "    <tr>\n",
       "      <th>7162</th>\n",
       "      <td>9000218013</td>\n",
       "      <td>3000</td>\n",
       "      <td>102.395445</td>\n",
       "      <td>7</td>\n",
       "      <td>0</td>\n",
       "      <td>0</td>\n",
       "      <td>0</td>\n",
       "      <td>0</td>\n",
       "      <td>0</td>\n",
       "      <td>3</td>\n",
       "      <td>...</td>\n",
       "      <td>1</td>\n",
       "      <td>1</td>\n",
       "      <td>1</td>\n",
       "      <td>0</td>\n",
       "      <td>0</td>\n",
       "      <td>2</td>\n",
       "      <td>1</td>\n",
       "      <td>202301</td>\n",
       "      <td>0</td>\n",
       "      <td>1031</td>\n",
       "    </tr>\n",
       "    <tr>\n",
       "      <th>7163</th>\n",
       "      <td>9000218021</td>\n",
       "      <td>12100</td>\n",
       "      <td>421.380431</td>\n",
       "      <td>6</td>\n",
       "      <td>0</td>\n",
       "      <td>0</td>\n",
       "      <td>0</td>\n",
       "      <td>0</td>\n",
       "      <td>0</td>\n",
       "      <td>0</td>\n",
       "      <td>...</td>\n",
       "      <td>4</td>\n",
       "      <td>6</td>\n",
       "      <td>2</td>\n",
       "      <td>0</td>\n",
       "      <td>0</td>\n",
       "      <td>1</td>\n",
       "      <td>2</td>\n",
       "      <td>202212</td>\n",
       "      <td>0</td>\n",
       "      <td>1032</td>\n",
       "    </tr>\n",
       "    <tr>\n",
       "      <th>7164</th>\n",
       "      <td>9000218034</td>\n",
       "      <td>10000</td>\n",
       "      <td>482.619553</td>\n",
       "      <td>2</td>\n",
       "      <td>0</td>\n",
       "      <td>0</td>\n",
       "      <td>0</td>\n",
       "      <td>0</td>\n",
       "      <td>0</td>\n",
       "      <td>0</td>\n",
       "      <td>...</td>\n",
       "      <td>4</td>\n",
       "      <td>6</td>\n",
       "      <td>2</td>\n",
       "      <td>0</td>\n",
       "      <td>0</td>\n",
       "      <td>2</td>\n",
       "      <td>2</td>\n",
       "      <td>202212</td>\n",
       "      <td>0</td>\n",
       "      <td>1032</td>\n",
       "    </tr>\n",
       "    <tr>\n",
       "      <th>7165</th>\n",
       "      <td>9000218040</td>\n",
       "      <td>14000</td>\n",
       "      <td>736.301892</td>\n",
       "      <td>4</td>\n",
       "      <td>0</td>\n",
       "      <td>0</td>\n",
       "      <td>0</td>\n",
       "      <td>0</td>\n",
       "      <td>0</td>\n",
       "      <td>5</td>\n",
       "      <td>...</td>\n",
       "      <td>4</td>\n",
       "      <td>6</td>\n",
       "      <td>2</td>\n",
       "      <td>0</td>\n",
       "      <td>0</td>\n",
       "      <td>1</td>\n",
       "      <td>2</td>\n",
       "      <td>202212</td>\n",
       "      <td>1</td>\n",
       "      <td>1032</td>\n",
       "    </tr>\n",
       "  </tbody>\n",
       "</table>\n",
       "<p>7166 rows × 46 columns</p>\n",
       "</div>"
      ],
      "text/plain": [
       "         HOUSEID  ANNMILES      GASUSGE  HighestEDUC  TAXISERVICE  \\\n",
       "0     9000013002     12000   408.258158            7            0   \n",
       "1     9000013016     10000   356.835885            6            0   \n",
       "2     9000013039      5000   171.387563            6            0   \n",
       "3     9000013041      5000   173.118751            6            0   \n",
       "4     9000013042     70020  2414.157750            8            0   \n",
       "...          ...       ...          ...          ...          ...   \n",
       "7161  9000218006     11000   374.625041            7            0   \n",
       "7162  9000218013      3000   102.395445            7            0   \n",
       "7163  9000218021     12100   421.380431            6            0   \n",
       "7164  9000218034     10000   482.619553            2            0   \n",
       "7165  9000218040     14000   736.301892            4            0   \n",
       "\n",
       "      RIDESHARE22  ESCOOTERUSED  PTUSED  MCTRANSIT  WALKTRANSIT  ...  URBAN  \\\n",
       "0               0             0       0          0           13  ...      1   \n",
       "1               0             0       0          0            7  ...      1   \n",
       "2               0             0       0          0            8  ...      1   \n",
       "3               0             0       0          0            0  ...      1   \n",
       "4               3             0       8          0            9  ...      1   \n",
       "...           ...           ...     ...        ...          ...  ...    ...   \n",
       "7161            0             0       0          0            0  ...      1   \n",
       "7162            0             0       0          0            3  ...      1   \n",
       "7163            0             0       0          0            0  ...      4   \n",
       "7164            0             0       0          0            0  ...      4   \n",
       "7165            0             0       0          0            5  ...      4   \n",
       "\n",
       "      URBANSIZE  URBRUR  PPT517  YOUNGCHILD  RESP_CNT  URBRUR_2010  TDAYDATE  \\\n",
       "0             4       1       2           0         4            1    202202   \n",
       "1             2       1       0           0         2            1    202202   \n",
       "2             4       1       2           0         4            1    202201   \n",
       "3             3       1       0           0         1            1    202201   \n",
       "4             4       1       0           1         2            1    202202   \n",
       "...         ...     ...     ...         ...       ...          ...       ...   \n",
       "7161          3       1       2           0         3            1    202212   \n",
       "7162          1       1       0           0         2            1    202301   \n",
       "7163          6       2       0           0         1            2    202212   \n",
       "7164          6       2       0           0         2            2    202212   \n",
       "7165          6       2       0           0         1            2    202212   \n",
       "\n",
       "      WRKCOUNT  STRATUMID  \n",
       "0            1       1021  \n",
       "1            2       1021  \n",
       "2            1       1021  \n",
       "3            1       1021  \n",
       "4            2       1021  \n",
       "...        ...        ...  \n",
       "7161         1       1031  \n",
       "7162         0       1031  \n",
       "7163         0       1032  \n",
       "7164         0       1032  \n",
       "7165         1       1032  \n",
       "\n",
       "[7166 rows x 46 columns]"
      ]
     },
     "metadata": {},
     "output_type": "display_data"
    },
    {
     "name": "stdout",
     "output_type": "stream",
     "text": [
      "Index(['HOUSEID', 'ANNMILES', 'GASUSGE', 'HighestEDUC', 'TAXISERVICE',\n",
      "       'RIDESHARE22', 'ESCOOTERUSED', 'PTUSED', 'MCTRANSIT', 'WALKTRANSIT',\n",
      "       'BIKETRANSIT', 'EMPLOYMENT2', 'WTHHFIN', 'WTHHFIN5D', 'WTHHFIN2D',\n",
      "       'NUMADLT', 'HOMEOWN', 'HOMETYPE', 'RAIL', 'CENSUS_D', 'CENSUS_R',\n",
      "       'HH_HISP', 'DRVRCNT', 'CNTTDHH', 'CDIVMSAR', 'FLAG100', 'HHFAMINC',\n",
      "       'HHFAMINC_IMP', 'HH_RACE', 'HHSIZE', 'HHVEHCNT', 'HHRELATD', 'LIF_CYC',\n",
      "       'MSACAT', 'MSASIZE', 'TRAVDAY', 'URBAN', 'URBANSIZE', 'URBRUR',\n",
      "       'PPT517', 'YOUNGCHILD', 'RESP_CNT', 'URBRUR_2010', 'TDAYDATE',\n",
      "       'WRKCOUNT', 'STRATUMID'],\n",
      "      dtype='object')\n"
     ]
    }
   ],
   "source": [
    "import pandas as pd\n",
    "\n",
    "df = pd.read_csv('processed_data.csv')\n",
    "display(df)\n",
    "print(df.columns)"
   ]
  },
  {
   "cell_type": "code",
   "execution_count": 49,
   "metadata": {},
   "outputs": [],
   "source": [
    "df_super = pd.read_csv(\"processed_data_SuperuserOnly.csv\")\n",
    "df_nonSuper = pd.read_csv(\"processed_data_nonSuperuserOnly.csv\")"
   ]
  },
  {
   "cell_type": "code",
   "execution_count": 50,
   "metadata": {},
   "outputs": [],
   "source": [
    "numerical = [\n",
    "            'TAXISERVICE', 'ESCOOTERUSED', 'PTUSED', 'MCTRANSIT', 'WALKTRANSIT',\n",
    "            'BIKETRANSIT', 'EMPLOYMENT2', 'WTHHFIN', 'WTHHFIN5D', 'WTHHFIN2D',\n",
    "            'CNTTDHH', 'PPT517', 'YOUNGCHILD', 'RESP_CNT','WRKCOUNT', 'NUMADLT',\n",
    "            'RIDESHARE22', 'DRVRCNT', 'HHSIZE'\n",
    "            ]\n",
    "\n",
    "categorical = [\n",
    "                'HighestEDUC', 'HOMEOWN', 'HOMETYPE', 'TRAVDAY', \n",
    "                'RAIL', 'CENSUS_D', 'CENSUS_R', 'HH_HISP',\n",
    "                'FLAG100', 'HHFAMINC', 'HHFAMINC_IMP', 'HH_RACE', 'CDIVMSAR', \n",
    "                'HHVEHCNT', 'HHRELATD', 'LIF_CYC', 'MSACAT', 'MSASIZE',\n",
    "                'URBAN', 'URBANSIZE', 'URBRUR', 'URBRUR_2010', \n",
    "            ]"
   ]
  },
  {
   "cell_type": "code",
   "execution_count": 59,
   "metadata": {},
   "outputs": [
    {
     "name": "stdout",
     "output_type": "stream",
     "text": [
      "MCTRANSIT 0.011317139255562917\n",
      "WALKTRANSIT 0.03801749768436081\n",
      "EMPLOYMENT2 1.566523648774104e-20\n",
      "WTHHFIN 2.4247230271224255e-09\n",
      "WTHHFIN5D 0.0006470069301208778\n",
      "WTHHFIN2D 0.0012325988711550055\n",
      "PPT517 2.7298699101551027e-18\n",
      "YOUNGCHILD 0.0005979413227050502\n",
      "RESP_CNT 7.182057279101535e-29\n",
      "WRKCOUNT 2.0374893574853475e-22\n",
      "NUMADLT 1.4883396843831319e-16\n",
      "RIDESHARE22 0.0002915743550749257\n",
      "DRVRCNT 1.4290990304114895e-21\n",
      "HHSIZE 7.59589013511768e-30\n"
     ]
    },
    {
     "data": {
      "text/plain": [
       "<BarContainer object of 14 artists>"
      ]
     },
     "execution_count": 59,
     "metadata": {},
     "output_type": "execute_result"
    },
    {
     "data": {
      "image/png": "[encoded data removed]",
      "text/plain": [
       "<Figure size 3000x1000 with 1 Axes>"
      ]
     },
     "metadata": {},
     "output_type": "display_data"
    }
   ],
   "source": [
    "import scipy.stats as stats\n",
    "import matplotlib.pyplot as plt\n",
    "\n",
    "ps = []\n",
    "names = []\n",
    "\n",
    "for column in numerical:\n",
    "    stat, p = stats.ttest_ind(df_super[column], df_nonSuper[column])\n",
    "    if ( p < 0.05):\n",
    "        ps.append(p)\n",
    "        names.append(column)\n",
    "        print(column, p)\n",
    "\n",
    "plt.figure(figsize=(30,10))\n",
    "plt.bar(names, ps)"
   ]
  },
  {
   "cell_type": "code",
   "execution_count": 62,
   "metadata": {},
   "outputs": [
    {
     "name": "stdout",
     "output_type": "stream",
     "text": [
      "HighestEDUC\n"
     ]
    },
    {
     "data": {
      "text/plain": [
       "Power_divergenceResult(statistic=0.03875876609678913, pvalue=0.9999999141970796)"
      ]
     },
     "metadata": {},
     "output_type": "display_data"
    },
    {
     "name": "stdout",
     "output_type": "stream",
     "text": [
      "HOMEOWN\n"
     ]
    },
    {
     "data": {
      "text/plain": [
       "Power_divergenceResult(statistic=0.008028625397220653, pvalue=0.9998091312616598)"
      ]
     },
     "metadata": {},
     "output_type": "display_data"
    },
    {
     "name": "stdout",
     "output_type": "stream",
     "text": [
      "HOMETYPE\n"
     ]
    },
    {
     "data": {
      "text/plain": [
       "Power_divergenceResult(statistic=0.009282102345535306, pvalue=0.9999892635858357)"
      ]
     },
     "metadata": {},
     "output_type": "display_data"
    },
    {
     "name": "stdout",
     "output_type": "stream",
     "text": [
      "TRAVDAY\n"
     ]
    },
    {
     "data": {
      "text/plain": [
       "Power_divergenceResult(statistic=0.00212831443348129, pvalue=0.9999999997993129)"
      ]
     },
     "metadata": {},
     "output_type": "display_data"
    },
    {
     "name": "stdout",
     "output_type": "stream",
     "text": [
      "RAIL\n"
     ]
    },
    {
     "data": {
      "text/plain": [
       "Power_divergenceResult(statistic=0.019491873833836187, pvalue=0.8889655308272675)"
      ]
     },
     "metadata": {},
     "output_type": "display_data"
    },
    {
     "name": "stdout",
     "output_type": "stream",
     "text": [
      "CENSUS_D\n"
     ]
    },
    {
     "data": {
      "text/plain": [
       "Power_divergenceResult(statistic=0.011141959256154207, pvalue=0.9999999999600442)"
      ]
     },
     "metadata": {},
     "output_type": "display_data"
    },
    {
     "name": "stdout",
     "output_type": "stream",
     "text": [
      "CENSUS_R\n"
     ]
    },
    {
     "data": {
      "text/plain": [
       "Power_divergenceResult(statistic=0.02813708011416012, pvalue=0.9987552722775621)"
      ]
     },
     "metadata": {},
     "output_type": "display_data"
    },
    {
     "name": "stdout",
     "output_type": "stream",
     "text": [
      "HH_HISP\n"
     ]
    },
    {
     "data": {
      "text/plain": [
       "Power_divergenceResult(statistic=0.04636924200588545, pvalue=0.8295059991488292)"
      ]
     },
     "metadata": {},
     "output_type": "display_data"
    },
    {
     "name": "stdout",
     "output_type": "stream",
     "text": [
      "FLAG100\n"
     ]
    },
    {
     "data": {
      "text/plain": [
       "Power_divergenceResult(statistic=0.024976032939896642, pvalue=0.8744267967137445)"
      ]
     },
     "metadata": {},
     "output_type": "display_data"
    },
    {
     "name": "stdout",
     "output_type": "stream",
     "text": [
      "HHFAMINC\n"
     ]
    },
    {
     "data": {
      "text/plain": [
       "Power_divergenceResult(statistic=0.03410556129884323, pvalue=0.9999999999999664)"
      ]
     },
     "metadata": {},
     "output_type": "display_data"
    },
    {
     "name": "stdout",
     "output_type": "stream",
     "text": [
      "HHFAMINC_IMP\n"
     ]
    },
    {
     "data": {
      "text/plain": [
       "Power_divergenceResult(statistic=0.027621786878695896, pvalue=0.9999999999958606)"
      ]
     },
     "metadata": {},
     "output_type": "display_data"
    },
    {
     "name": "stdout",
     "output_type": "stream",
     "text": [
      "HH_RACE\n"
     ]
    },
    {
     "data": {
      "text/plain": [
       "Power_divergenceResult(statistic=0.02344570589475488, pvalue=0.9999997338469525)"
      ]
     },
     "metadata": {},
     "output_type": "display_data"
    },
    {
     "name": "stdout",
     "output_type": "stream",
     "text": [
      "CDIVMSAR\n"
     ]
    },
    {
     "data": {
      "text/plain": [
       "Power_divergenceResult(statistic=0.028011099316615468, pvalue=1.0)"
      ]
     },
     "metadata": {},
     "output_type": "display_data"
    },
    {
     "name": "stdout",
     "output_type": "stream",
     "text": [
      "HHVEHCNT\n"
     ]
    },
    {
     "data": {
      "text/plain": [
       "Power_divergenceResult(statistic=0.26123076579270843, pvalue=0.999998193694031)"
      ]
     },
     "metadata": {},
     "output_type": "display_data"
    },
    {
     "name": "stdout",
     "output_type": "stream",
     "text": [
      "HHRELATD\n"
     ]
    },
    {
     "data": {
      "text/plain": [
       "Power_divergenceResult(statistic=0.025419264231345644, pvalue=0.8733267955548643)"
      ]
     },
     "metadata": {},
     "output_type": "display_data"
    },
    {
     "name": "stdout",
     "output_type": "stream",
     "text": [
      "LIF_CYC\n"
     ]
    },
    {
     "data": {
      "text/plain": [
       "Power_divergenceResult(statistic=0.05828548530380202, pvalue=0.9999999977029047)"
      ]
     },
     "metadata": {},
     "output_type": "display_data"
    },
    {
     "name": "stdout",
     "output_type": "stream",
     "text": [
      "MSACAT\n"
     ]
    },
    {
     "data": {
      "text/plain": [
       "Power_divergenceResult(statistic=0.03317343829243008, pvalue=0.9984089401262803)"
      ]
     },
     "metadata": {},
     "output_type": "display_data"
    },
    {
     "name": "stdout",
     "output_type": "stream",
     "text": [
      "MSASIZE\n"
     ]
    },
    {
     "data": {
      "text/plain": [
       "Power_divergenceResult(statistic=0.03386051011111997, pvalue=0.9999889125052125)"
      ]
     },
     "metadata": {},
     "output_type": "display_data"
    },
    {
     "name": "stdout",
     "output_type": "stream",
     "text": [
      "URBAN\n"
     ]
    },
    {
     "data": {
      "text/plain": [
       "Power_divergenceResult(statistic=0.02538527529291803, pvalue=0.9989324539516831)"
      ]
     },
     "metadata": {},
     "output_type": "display_data"
    },
    {
     "name": "stdout",
     "output_type": "stream",
     "text": [
      "URBANSIZE\n"
     ]
    },
    {
     "data": {
      "text/plain": [
       "Power_divergenceResult(statistic=0.03879744652728963, pvalue=0.9999844459788375)"
      ]
     },
     "metadata": {},
     "output_type": "display_data"
    },
    {
     "name": "stdout",
     "output_type": "stream",
     "text": [
      "URBRUR\n"
     ]
    },
    {
     "data": {
      "text/plain": [
       "Power_divergenceResult(statistic=0.020602605517938348, pvalue=0.8858668205751372)"
      ]
     },
     "metadata": {},
     "output_type": "display_data"
    },
    {
     "name": "stdout",
     "output_type": "stream",
     "text": [
      "URBRUR_2010\n"
     ]
    },
    {
     "data": {
      "text/plain": [
       "Power_divergenceResult(statistic=0.011785598365887193, pvalue=0.9135503021085437)"
      ]
     },
     "metadata": {},
     "output_type": "display_data"
    }
   ],
   "source": [
    "for column in categorical:\n",
    "    values_super = df_super[column].value_counts()\n",
    "    freqencies_super = values_super / values_super.sum()\n",
    "    freqencies_super = freqencies_super.values.tolist()\n",
    "\n",
    "    values_nonSuper = df_nonSuper[column].value_counts()\n",
    "    freqencies_nonSuper = values_nonSuper / values_nonSuper.sum()\n",
    "    freqencies_nonSuper = freqencies_nonSuper.values.tolist()\n",
    "\n",
    "    try:\n",
    "        result = stat, pvalue = stats.chisquare(freqencies_super, freqencies_nonSuper)\n",
    "        print(column)\n",
    "        display(result)\n",
    "    except:\n",
    "        freqencies_super.append(0)\n",
    "        result = stat, pvalue = stats.chisquare(freqencies_super, freqencies_nonSuper)\n",
    "        print(column)\n",
    "        display(result)\n"
   ]
  }
 ],
 "metadata": {
  "kernelspec": {
   "display_name": "base",
   "language": "python",
   "name": "python3"
  },
  "language_info": {
   "codemirror_mode": {
    "name": "ipython",
    "version": 3
   },
   "file_extension": ".py",
   "mimetype": "text/x-python",
   "name": "python",
   "nbconvert_exporter": "python",
   "pygments_lexer": "ipython3",
   "version": "3.11.7"
  }
 },
 "nbformat": 4,
 "nbformat_minor": 2
}
