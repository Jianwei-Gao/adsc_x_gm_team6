{
 "cells": [
  {
   "cell_type": "code",
   "execution_count": 201,
   "metadata": {},
   "outputs": [],
   "source": [
    "import numpy as np\n",
    "import pandas as pd\n",
    "from sklearn.model_selection import train_test_split\n",
    "from sklearn.neighbors import KNeighborsClassifier\n",
    "from sklearn.ensemble import RandomForestClassifier\n",
    "from sklearn.utils import resample\n",
    "from sklearn.metrics import accuracy_score, classification_report, confusion_matrix"
   ]
  },
  {
   "cell_type": "code",
   "execution_count": 179,
   "metadata": {},
   "outputs": [],
   "source": [
    "#extract processed data\n",
    "df = pd.read_csv(\"processed_data.csv\")\n",
    "\n",
    "#caterogerize whether a household is a superuser by gasuge \n",
    "df['SuperUser'] = 0\n",
    "df.loc[df[df['GASUSGE'] >= df.GASUSGE.quantile(0.9)].index, 'SuperUser'] = 1\n",
    "\n",
    "#remove extreme high correlation varaibles\n",
    "df.drop(['ANNMILES', 'GASUSGE','STRATUMID','TDAYDATE','FLAG100'], axis=1, inplace=True)\n",
    "\n",
    "#separate prediction variable and id from dataframe\n",
    "df_y = df.pop('SuperUser')\n",
    "id = df.pop(\"HOUSEID\")\n",
    "\n",
    "#create train and test dataset\n",
    "x_train, x_test, y_train, y_test = train_test_split(df, df_y, test_size=0.3, random_state=42)\n"
   ]
  },
  {
   "cell_type": "code",
   "execution_count": 180,
   "metadata": {},
   "outputs": [
    {
     "data": {
      "text/plain": [
       "SuperUser\n",
       "0    4527\n",
       "1     489\n",
       "Name: count, dtype: int64"
      ]
     },
     "execution_count": 180,
     "metadata": {},
     "output_type": "execute_result"
    }
   ],
   "source": [
    "y_train.value_counts()"
   ]
  },
  {
   "cell_type": "code",
   "execution_count": 183,
   "metadata": {},
   "outputs": [
    {
     "name": "stdout",
     "output_type": "stream",
     "text": [
      "SuperUser\n",
      "0    4527\n",
      "1     489\n",
      "Name: count, dtype: int64\n"
     ]
    }
   ],
   "source": [
    "print(y_train.value_counts())"
   ]
  },
  {
   "cell_type": "code",
   "execution_count": 182,
   "metadata": {},
   "outputs": [
    {
     "data": {
      "text/plain": [
       "SuperUser\n",
       "0    4527\n",
       "1    4527\n",
       "Name: count, dtype: int64"
      ]
     },
     "execution_count": 182,
     "metadata": {},
     "output_type": "execute_result"
    }
   ],
   "source": [
    "x = pd.concat([x_train, y_train], axis=1)\n",
    "non_superuser = x[x.SuperUser == 0]\n",
    "superuser = x[x.SuperUser == 1]\n",
    "superuser_upsampled = resample(superuser, replace=True, n_samples = len(non_superuser), random_state=42)\n",
    "upsampled = pd.concat([non_superuser,superuser_upsampled])\n",
    "up_y_train = upsampled.SuperUser\n",
    "up_x_train = upsampled.drop('SuperUser', axis=1)\n",
    "up_y_train.value_counts()\n"
   ]
  },
  {
   "cell_type": "code",
   "execution_count": 184,
   "metadata": {},
   "outputs": [
    {
     "data": {
      "text/plain": [
       "SuperUser\n",
       "0    489\n",
       "1    489\n",
       "Name: count, dtype: int64"
      ]
     },
     "execution_count": 184,
     "metadata": {},
     "output_type": "execute_result"
    }
   ],
   "source": [
    "non_superuser_downsampled = resample(non_superuser, replace = False, n_samples = len(superuser), random_state=42)\n",
    "downsampled = pd.concat([non_superuser_downsampled, superuser])\n",
    "d_y_train = downsampled.SuperUser\n",
    "d_x_train = downsampled.drop('SuperUser', axis=1)\n",
    "d_y_train.value_counts()"
   ]
  },
  {
   "cell_type": "code",
   "execution_count": 185,
   "metadata": {},
   "outputs": [
    {
     "data": {
      "text/plain": [
       "SuperUser\n",
       "0    1922\n",
       "1     228\n",
       "Name: count, dtype: int64"
      ]
     },
     "execution_count": 185,
     "metadata": {},
     "output_type": "execute_result"
    }
   ],
   "source": [
    "y_test.value_counts()"
   ]
  },
  {
   "cell_type": "code",
   "execution_count": 194,
   "metadata": {},
   "outputs": [
    {
     "name": "stdout",
     "output_type": "stream",
     "text": [
      "Accuracy: 89.12%\n",
      "Classification Report:\n",
      "               precision    recall  f1-score   support\n",
      "\n",
      "           0       0.89      1.00      0.94      1922\n",
      "           1       0.20      0.01      0.02       228\n",
      "\n",
      "    accuracy                           0.89      2150\n",
      "   macro avg       0.55      0.50      0.48      2150\n",
      "weighted avg       0.82      0.89      0.84      2150\n",
      "\n",
      "Confusion matrix\n",
      "      0  1\n",
      "0  1914  8\n",
      "1   226  2\n"
     ]
    }
   ],
   "source": [
    "knn = KNeighborsClassifier(n_neighbors=2)\n",
    "#knn.fit(up_x_train, up_y_train)\n",
    "#knn.fit(d_x_train, d_y_train)\n",
    "knn.fit(x_train, y_train)\n",
    "y_pred = knn.predict(x_test)\n",
    "accuracy = accuracy_score(y_test, y_pred)\n",
    "class_report = classification_report(y_test, y_pred)\n",
    "print(f\"Accuracy: {accuracy * 100:.2f}%\")\n",
    "print(\"Classification Report:\\n\", class_report)\n",
    "\n",
    "print('Confusion matrix')\n",
    "print(pd.DataFrame(confusion_matrix(y_test, y_pred)))\n"
   ]
  },
  {
   "cell_type": "code",
   "execution_count": 202,
   "metadata": {},
   "outputs": [
    {
     "name": "stdout",
     "output_type": "stream",
     "text": [
      "Accuracy: 89.30%\n",
      "ROCAUC: 89.30%\n",
      "F1: 89.30%\n",
      "Classification Report:\n",
      "               precision    recall  f1-score   support\n",
      "\n",
      "           0       0.89      1.00      0.94      1922\n",
      "           1       0.33      0.01      0.02       228\n",
      "\n",
      "    accuracy                           0.89      2150\n",
      "   macro avg       0.61      0.50      0.48      2150\n",
      "weighted avg       0.84      0.89      0.85      2150\n",
      "\n",
      "      0  1\n",
      "0  1918  4\n",
      "1   226  2\n"
     ]
    }
   ],
   "source": [
    "rfc = RandomForestClassifier(class_weight='balanced')\n",
    "rfc.fit(up_x_train, up_y_train)\n",
    "#rfc.fit(d_x_train, d_y_train)\n",
    "#rfc.fit(x_train, y_train)\n",
    "y_pred = rfc.predict(x_test)\n",
    "accuracy = accuracy_score(y_test, y_pred)\n",
    "class_report = classification_report(y_test, y_pred)\n",
    "print(f\"Accuracy: {accuracy * 100:.2f}%\")\n",
    "print(f\"ROCAUC: {accuracy * 100:.2f}%\")\n",
    "print(f\"F1: {accuracy * 100:.2f}%\")\n",
    "print(\"Classification Report:\\n\", class_report)\n",
    "print(pd.DataFrame(confusion_matrix(y_test, y_pred)))"
   ]
  }
 ],
 "metadata": {
  "kernelspec": {
   "display_name": "python-ml",
   "language": "python",
   "name": "python3"
  },
  "language_info": {
   "codemirror_mode": {
    "name": "ipython",
    "version": 3
   },
   "file_extension": ".py",
   "mimetype": "text/x-python",
   "name": "python",
   "nbconvert_exporter": "python",
   "pygments_lexer": "ipython3",
   "version": "3.11.8"
  }
 },
 "nbformat": 4,
 "nbformat_minor": 2
}
