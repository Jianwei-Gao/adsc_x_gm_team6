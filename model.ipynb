{
 "cells": [
  {
   "cell_type": "code",
   "execution_count": 1,
   "metadata": {},
   "outputs": [],
   "source": [
    "import numpy as np\n",
    "import pandas as pd\n",
    "from sklearn.model_selection import train_test_split\n",
    "from sklearn.neighbors import KNeighborsClassifier\n",
    "from sklearn.metrics import accuracy_score, classification_report, mean_squared_error\n"
   ]
  },
  {
   "cell_type": "code",
   "execution_count": 3,
   "metadata": {},
   "outputs": [],
   "source": [
    "#extract processed data\n",
    "df = pd.read_csv(\"processed_data.csv\")\n",
    "\n",
    "#caterogerize whether a household is a superuser by gasuge \n",
    "df['SuperUser'] = 0\n",
    "df.loc[df[df['GASUSGE'] >= df.GASUSGE.quantile(0.9)].index, 'SuperUser'] = 1\n",
    "\n",
    "#remove extreme high correlation varaibles\n",
    "df.drop(['ANNMILES', 'GASUSGE','STRATUMID','TDAYDATE','FLAG100'], axis=1, inplace=True)\n",
    "\n",
    "#separate prediction variable and id from dataframe\n",
    "df_y = df.pop('SuperUser')\n",
    "id = df.pop(\"HOUSEID\")\n",
    "\n",
    "#create train and test dataset\n",
    "x_train, x_test, y_train, y_test = train_test_split(df, df_y, test_size=0.3, random_state=42)\n"
   ]
  },
  {
   "cell_type": "code",
   "execution_count": 4,
   "metadata": {},
   "outputs": [
    {
     "data": {
      "text/plain": [
       "SuperUser\n",
       "0    4527\n",
       "1     489\n",
       "Name: count, dtype: int64"
      ]
     },
     "execution_count": 4,
     "metadata": {},
     "output_type": "execute_result"
    }
   ],
   "source": [
    "y_train.value_counts()"
   ]
  },
  {
   "cell_type": "code",
   "execution_count": 5,
   "metadata": {},
   "outputs": [
    {
     "name": "stdout",
     "output_type": "stream",
     "text": [
      "Accuracy: 88.79%\n",
      "Classification Report:\n",
      "               precision    recall  f1-score   support\n",
      "\n",
      "           0       0.89      0.99      0.94      1922\n",
      "           1       0.19      0.02      0.03       228\n",
      "\n",
      "    accuracy                           0.89      2150\n",
      "   macro avg       0.54      0.50      0.49      2150\n",
      "weighted avg       0.82      0.89      0.84      2150\n",
      "\n"
     ]
    }
   ],
   "source": [
    "knn = KNeighborsClassifier(n_neighbors=2)\n",
    "knn.fit(x_train, y_train)\n",
    "y_pred = knn.predict(x_test)\n",
    "accuracy = accuracy_score(y_test, y_pred)\n",
    "mae = mean_squared_error(y_test, y_pred)\n",
    "class_report = classification_report(y_test, y_pred)\n",
    "print(f\"Accuracy: {accuracy * 100:.2f}%\")\n",
    "print(\"Classification Report:\\n\", class_report)"
   ]
  }
 ],
 "metadata": {
  "kernelspec": {
   "display_name": "python-ml",
   "language": "python",
   "name": "python3"
  },
  "language_info": {
   "codemirror_mode": {
    "name": "ipython",
    "version": 3
   },
   "file_extension": ".py",
   "mimetype": "text/x-python",
   "name": "python",
   "nbconvert_exporter": "python",
   "pygments_lexer": "ipython3",
   "version": "3.11.8"
  }
 },
 "nbformat": 4,
 "nbformat_minor": 2
}
