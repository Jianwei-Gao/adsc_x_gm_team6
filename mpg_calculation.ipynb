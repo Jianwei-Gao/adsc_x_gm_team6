{
 "cells": [
  {
   "cell_type": "code",
   "execution_count": 29,
   "metadata": {},
   "outputs": [],
   "source": [
    "def get_mpg(type, age):\n",
    "    dict = {'1': 31.3, '2': 26.2, '3': 30.5, '4': 19.4, '5': 24, '6': 10, '7': 50, '97':-1}\n",
    "    type = str(type)\n",
    "    age = int(age)\n",
    "    mpg_for_new_car = dict[type]\n",
    "    if (mpg_for_new_car == -1):\n",
    "        return -1\n",
    "    else:\n",
    "        mpg = mpg_for_new_car * (.99**age)\n",
    "        return mpg\n",
    "\n",
    "\n",
    "def get_gas_usage(mpg, miles):\n",
    "    return miles / mpg"
   ]
  },
  {
   "cell_type": "code",
   "execution_count": 30,
   "metadata": {},
   "outputs": [
    {
     "name": "stderr",
     "output_type": "stream",
     "text": [
      "C:\\Users\\yotam\\AppData\\Local\\Temp\\ipykernel_13972\\3448404167.py:10: SettingWithCopyWarning: \n",
      "A value is trying to be set on a copy of a slice from a DataFrame\n",
      "\n",
      "See the caveats in the documentation: https://pandas.pydata.org/pandas-docs/stable/user_guide/indexing.html#returning-a-view-versus-a-copy\n",
      "  new_df['MPG'][i] = mpg\n",
      "C:\\Users\\yotam\\AppData\\Local\\Temp\\ipykernel_13972\\3448404167.py:11: SettingWithCopyWarning: \n",
      "A value is trying to be set on a copy of a slice from a DataFrame\n",
      "\n",
      "See the caveats in the documentation: https://pandas.pydata.org/pandas-docs/stable/user_guide/indexing.html#returning-a-view-versus-a-copy\n",
      "  new_df['GASUSGE'][i] = get_gas_usage(mpg, new_df['ANNMILES'][i])\n"
     ]
    }
   ],
   "source": [
    "import pandas as pd\n",
    "import numpy as np\n",
    "\n",
    "df = pd.read_csv('original_data.csv')\n",
    "new_df = pd.DataFrame({'ANNMILES': df['ANNMILES'], 'VEHTYPE': df['VEHTYPE'], 'VEHAGE': df['VEHAGE'], 'MPG': np.nan, 'GASUSGE': np.nan})\n",
    "\n",
    "for i in range(len(new_df)):\n",
    "    mpg = get_mpg(new_df['VEHTYPE'][i], new_df['VEHAGE'][i])\n",
    "    if (mpg > 0):\n",
    "        new_df['MPG'][i] = mpg\n",
    "        new_df['GASUSGE'][i] = get_gas_usage(mpg, new_df['ANNMILES'][i])\n",
    "    "
   ]
  },
  {
   "cell_type": "code",
   "execution_count": 31,
   "metadata": {},
   "outputs": [],
   "source": [
    "merged_df = pd.concat([df, new_df], axis=1)\n",
    "merged_df.to_csv('data_with_gas_usage.csv', index=False)"
   ]
  }
 ],
 "metadata": {
  "kernelspec": {
   "display_name": "base",
   "language": "python",
   "name": "python3"
  },
  "language_info": {
   "codemirror_mode": {
    "name": "ipython",
    "version": 3
   },
   "file_extension": ".py",
   "mimetype": "text/x-python",
   "name": "python",
   "nbconvert_exporter": "python",
   "pygments_lexer": "ipython3",
   "version": "3.11.4"
  }
 },
 "nbformat": 4,
 "nbformat_minor": 2
}
